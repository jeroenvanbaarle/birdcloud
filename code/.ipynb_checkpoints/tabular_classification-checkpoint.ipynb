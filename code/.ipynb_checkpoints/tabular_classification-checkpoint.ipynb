{
 "cells": [
  {
   "cell_type": "code",
   "execution_count": 38,
   "id": "heard-compound",
   "metadata": {},
   "outputs": [],
   "source": [
    "import pandas as pd\n",
    "import polars as pl\n",
    "import numpy as np\n",
    "from xgboost import XGBClassifier\n",
    "import os\n",
    "import matplotlib.pyplot as plt\n",
    "from sklearn.metrics import accuracy_score, precision_score, recall_score, confusion_matrix, ConfusionMatrixDisplay"
   ]
  },
  {
   "cell_type": "code",
   "execution_count": 17,
   "id": "amended-vietnamese",
   "metadata": {},
   "outputs": [],
   "source": [
    "np.random.seed(42)"
   ]
  },
  {
   "cell_type": "code",
   "execution_count": 18,
   "id": "assumed-weekend",
   "metadata": {},
   "outputs": [],
   "source": [
    "def train_test_split(folderpath, testsplit=0.3):\n",
    "    files = os.listdir(folderpath)\n",
    "    np.random.shuffle(files)\n",
    "    \n",
    "    split = int(len(files)*(1-testsplit))\n",
    "    trainFiles = files[:split]\n",
    "    testFiles = files[split:]\n",
    "\n",
    "    return trainFiles, testFiles"
   ]
  },
  {
   "cell_type": "code",
   "execution_count": 19,
   "id": "independent-imperial",
   "metadata": {},
   "outputs": [],
   "source": [
    "trainFiles, testFiles = train_test_split(\"../pointclouds\")"
   ]
  },
  {
   "cell_type": "code",
   "execution_count": 25,
   "id": "industrial-charity",
   "metadata": {},
   "outputs": [],
   "source": [
    "xgb = XGBClassifier(n_estimators = 100, tree_method='gpu_hist', n_jobs = 8)\n",
    "\n",
    "for i in trainFiles[:700]:\n",
    "    df = pd.read_parquet(f\"../pointclouds/{i}\")\n",
    "    \n",
    "    xgb.fit(df[['x', 'y', 'z', 'DBZH', 'VRADH']], df[['biology']])"
   ]
  },
  {
   "cell_type": "code",
   "execution_count": 32,
   "id": "stylish-roberts",
   "metadata": {},
   "outputs": [
    {
     "name": "stdout",
     "output_type": "stream",
     "text": [
      "Accuracy: 0.6730933945180895\n",
      "Precision: 0.40173356203544885\n",
      "Recall: 0.1553351868358872\n",
      "--------------------\n",
      "Accuracy: 0.660564165579512\n",
      "Precision: 0.5939959195569805\n",
      "Recall: 0.04801130786446268\n",
      "--------------------\n",
      "Accuracy: 0.6561904153166132\n",
      "Precision: 0.40397382943112786\n",
      "Recall: 0.1681139992556134\n",
      "--------------------\n",
      "Accuracy: 0.6633948557952962\n",
      "Precision: 0.6273699562469616\n",
      "Recall: 0.04997289343246592\n",
      "--------------------\n",
      "Accuracy: 0.6308203054197381\n",
      "Precision: 0.43938770908222685\n",
      "Recall: 0.15610763768890007\n",
      "--------------------\n"
     ]
    }
   ],
   "source": [
    "cms = {}\n",
    "j = 0\n",
    "for i in testFiles[:5]:\n",
    "    df = pd.read_parquet(f\"../pointclouds/{i}\")\n",
    "    \n",
    "    predictions = xgb.predict(df[['x', 'y', 'z', 'DBZH', 'VRADH']])\n",
    "    \n",
    "    cms[j] = confusion_matrix(df[['biology']], predictions)\n",
    "    \n",
    "    print(f\"Accuracy: {accuracy_score(df[['biology']], predictions)}\")\n",
    "    print(f\"Precision: {precision_score(df[['biology']], predictions)}\")\n",
    "    print(f\"Recall: {recall_score(df[['biology']], predictions)}\")\n",
    "    print(\"--------------------\")\n",
    "    j+=1"
   ]
  },
  {
   "cell_type": "code",
   "execution_count": 40,
   "id": "uniform-eagle",
   "metadata": {},
   "outputs": [
    {
     "data": {
      "image/png": "[encoded data removed]",
      "text/plain": [
       "<Figure size 432x288 with 2 Axes>"
      ]
     },
     "metadata": {
      "needs_background": "light"
     },
     "output_type": "display_data"
    }
   ],
   "source": [
    "disp = ConfusionMatrixDisplay(cms[0])\n",
    "disp.plot()\n",
    "plt.show()"
   ]
  },
  {
   "cell_type": "code",
   "execution_count": 10,
   "id": "going-examination",
   "metadata": {},
   "outputs": [
    {
     "name": "stdout",
     "output_type": "stream",
     "text": [
      "11.4 ms ± 136 µs per loop (mean ± std. dev. of 7 runs, 100 loops each)\n"
     ]
    }
   ],
   "source": [
    "%%timeit\n",
    "df = pl.read_parquet(f\"../pointclouds/{trainFiles[0]}\")"
   ]
  },
  {
   "cell_type": "code",
   "execution_count": null,
   "id": "sitting-fiber",
   "metadata": {},
   "outputs": [],
   "source": []
  }
 ],
 "metadata": {
  "kernelspec": {
   "display_name": "py310",
   "language": "python",
   "name": "py310"
  },
  "language_info": {
   "codemirror_mode": {
    "name": "ipython",
    "version": 3
   },
   "file_extension": ".py",
   "mimetype": "text/x-python",
   "name": "python",
   "nbconvert_exporter": "python",
   "pygments_lexer": "ipython3",
   "version": "3.10.8"
  }
 },
 "nbformat": 4,
 "nbformat_minor": 5
}
