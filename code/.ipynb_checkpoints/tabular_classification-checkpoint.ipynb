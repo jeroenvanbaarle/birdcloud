{
 "cells": [
  {
   "cell_type": "code",
   "execution_count": 51,
   "id": "heard-compound",
   "metadata": {},
   "outputs": [],
   "source": [
    "import pandas as pd\n",
    "import polars as pl\n",
    "import numpy as np\n",
    "import random\n",
    "from tqdm import tqdm\n",
    "from xgboost import XGBClassifier,  plot_importance\n",
    "import os\n",
    "import matplotlib.pyplot as plt\n",
    "from sklearn.metrics import accuracy_score, precision_score, recall_score, confusion_matrix, ConfusionMatrixDisplay"
   ]
  },
  {
   "cell_type": "code",
   "execution_count": 3,
   "id": "amended-vietnamese",
   "metadata": {},
   "outputs": [],
   "source": [
    "np.random.seed(42)"
   ]
  },
  {
   "cell_type": "code",
   "execution_count": 4,
   "id": "assumed-weekend",
   "metadata": {},
   "outputs": [],
   "source": [
    "def train_test_split(folderpath, testsplit=0.3):\n",
    "    files = [f for f in os.listdir(folderpath) if os.path.isfile(os.path.join(folderpath, f))]\n",
    "    np.random.shuffle(files)\n",
    "    \n",
    "    split = int(len(files)*(1-testsplit))\n",
    "    trainFiles = files[:split]\n",
    "    testFiles = files[split:]\n",
    "\n",
    "    return trainFiles, testFiles"
   ]
  },
  {
   "cell_type": "code",
   "execution_count": 5,
   "id": "independent-imperial",
   "metadata": {},
   "outputs": [],
   "source": [
    "trainFiles, testFiles = train_test_split(\"../cloudswithtime\")"
   ]
  },
  {
   "cell_type": "code",
   "execution_count": 6,
   "id": "charming-cylinder",
   "metadata": {},
   "outputs": [
    {
     "name": "stdout",
     "output_type": "stream",
     "text": [
      "1598\n"
     ]
    }
   ],
   "source": [
    "print(len(trainFiles))"
   ]
  },
  {
   "cell_type": "code",
   "execution_count": 30,
   "id": "industrial-charity",
   "metadata": {},
   "outputs": [
    {
     "name": "stderr",
     "output_type": "stream",
     "text": [
      "100%|██████████████████████████████████████████████████████████████████████████████| 1598/1598 [19:42<00:00,  1.35it/s]\n"
     ]
    }
   ],
   "source": [
    "xgb = XGBClassifier(n_estimators = 100, tree_method='gpu_hist', n_jobs = -1)\n",
    "\n",
    "for i in tqdm(trainFiles):\n",
    "    df = pd.read_parquet(f\"../cloudswithtime/{i}\")\n",
    "    \n",
    "    xgb.fit(df[['x', 'y', 'z', 'DBZH', 'VRADH', 'prior_DBZ', 'prior_VRAD']], df[['biology']])"
   ]
  },
  {
   "cell_type": "code",
   "execution_count": 32,
   "id": "stylish-roberts",
   "metadata": {},
   "outputs": [
    {
     "name": "stderr",
     "output_type": "stream",
     "text": [
      "100%|████████████████████████████████████████████████████████████████████████████████| 400/400 [04:35<00:00,  1.45it/s]"
     ]
    },
    {
     "name": "stdout",
     "output_type": "stream",
     "text": [
      "Average Accuracy: 0.8334100144986334\n",
      "Min Accuracy: 0.4529952853884252\n",
      "Max Accuracy: 0.9718579106199986\n",
      "Average Precision: 0.5480110455006613\n",
      "Min Precision: 0.05104253544620517\n",
      "Max Precision: 0.8596282006313574\n",
      "Average Recall: 0.2416546021068507\n",
      "Min Recall: 0.05087945116408681\n",
      "Max Recall: 0.6829367707749529\n"
     ]
    },
    {
     "name": "stderr",
     "output_type": "stream",
     "text": [
      "\n"
     ]
    }
   ],
   "source": [
    "cms = {}\n",
    "j = 0\n",
    "\n",
    "accuracies = []\n",
    "precisions = []\n",
    "recalls = []\n",
    "\n",
    "for i in tqdm(testFiles[:400]):\n",
    "    df = pd.read_parquet(f\"../cloudswithtime/{i}\")\n",
    "    \n",
    "    predictions = xgb.predict(df[['x', 'y', 'z', 'DBZH', 'VRADH', 'prior_DBZ', 'prior_VRAD']])\n",
    "    \n",
    "    cms[j] = confusion_matrix(df[['biology']], predictions)\n",
    "    \n",
    "    acc = accuracy_score(df[['biology']], predictions)\n",
    "    prec = precision_score(df[['biology']], predictions)\n",
    "    rec = recall_score(df[['biology']], predictions)\n",
    "    \n",
    "    accuracies.append(acc)\n",
    "    precisions.append(prec)\n",
    "    recalls.append(rec)\n",
    "    \n",
    "    #print(f\"Accuracy: {acc}\")\n",
    "    #print(f\"Precision: {prec}\")\n",
    "    #print(f\"Recall: {rec}\")\n",
    "    #print(\"--------------------\")\n",
    "    j+=1\n",
    "    \n",
    "print(f\"Average Accuracy: {np.mean(accuracies)}\")\n",
    "print(f\"Min Accuracy: {np.min(accuracies)}\")\n",
    "print(f\"Max Accuracy: {np.max(accuracies)}\")\n",
    "print(f\"Average Precision: {np.mean(precisions)}\")\n",
    "print(f\"Min Precision: {np.min(precisions)}\")\n",
    "print(f\"Max Precision: {np.max(precisions)}\")\n",
    "print(f\"Average Recall: {np.mean(recalls)}\")\n",
    "print(f\"Min Recall: {np.min(recalls)}\")\n",
    "print(f\"Max Recall: {np.max(recalls)}\")"
   ]
  },
  {
   "cell_type": "code",
   "execution_count": 45,
   "id": "joined-invitation",
   "metadata": {},
   "outputs": [
    {
     "data": {
      "text/plain": [
       "148"
      ]
     },
     "execution_count": 45,
     "metadata": {},
     "output_type": "execute_result"
    }
   ],
   "source": [
    "np.argmax(accuracies)"
   ]
  },
  {
   "cell_type": "code",
   "execution_count": 59,
   "id": "cathedral-score",
   "metadata": {},
   "outputs": [
    {
     "data": {
      "text/plain": [
       "'NLHRW_pvol_20211002T1430_6356.parquet'"
      ]
     },
     "execution_count": 59,
     "metadata": {},
     "output_type": "execute_result"
    }
   ],
   "source": [
    "testFiles[148]"
   ]
  },
  {
   "cell_type": "code",
   "execution_count": 50,
   "id": "greatest-thong",
   "metadata": {},
   "outputs": [],
   "source": [
    "df = pd.read_parquet(f\"../cloudswithtime/NLHRW_pvol_20211002T1430_6356.parquet\")\n",
    "df['preds'] = xgb.predict(df[['x', 'y', 'z', 'DBZH', 'VRADH', 'prior_DBZ', 'prior_VRAD']])\n",
    "df.to_csv(\"../notable clouds/highest_acc.csv\")"
   ]
  },
  {
   "cell_type": "code",
   "execution_count": 55,
   "id": "lonely-glory",
   "metadata": {},
   "outputs": [
    {
     "name": "stdout",
     "output_type": "stream",
     "text": [
      "['NLHRW_pvol_20211004T1025_6356.parquet'\n",
      " 'NLHRW_pvol_20211005T1735_6356.parquet'\n",
      " 'NLHRW_pvol_20211001T0310_6356.parquet'\n",
      " 'NLHRW_pvol_20211003T2025_6356.parquet'\n",
      " 'NLHRW_pvol_20211008T0035_6356.parquet']\n"
     ]
    }
   ],
   "source": [
    "rand_clouds = np.random.choice(testFiles[:400], 5)\n",
    "print(rand_clouds)"
   ]
  },
  {
   "cell_type": "code",
   "execution_count": 58,
   "id": "sticky-tampa",
   "metadata": {},
   "outputs": [],
   "source": [
    "for i, cl in enumerate(rand_clouds):\n",
    "    df = pd.read_parquet(f\"../cloudswithtime/{cl}\")\n",
    "    df['preds'] = xgb.predict(df[['x', 'y', 'z', 'DBZH', 'VRADH', 'prior_DBZ', 'prior_VRAD']])\n",
    "    df.to_csv(f\"../notable clouds/random_{i}.csv\")"
   ]
  },
  {
   "cell_type": "code",
   "execution_count": 21,
   "id": "uniform-eagle",
   "metadata": {},
   "outputs": [
    {
     "data": {
      "image/png": "[encoded data removed]",
      "text/plain": [
       "<Figure size 432x288 with 2 Axes>"
      ]
     },
     "metadata": {
      "needs_background": "light"
     },
     "output_type": "display_data"
    }
   ],
   "source": [
    "disp = ConfusionMatrixDisplay(cms[0])\n",
    "disp.plot()\n",
    "plt.show()"
   ]
  },
  {
   "cell_type": "code",
   "execution_count": null,
   "id": "affecting-public",
   "metadata": {},
   "outputs": [],
   "source": []
  },
  {
   "cell_type": "code",
   "execution_count": 29,
   "id": "sitting-fiber",
   "metadata": {},
   "outputs": [
    {
     "data": {
      "image/png": "[encoded data removed]",
      "text/plain": [
       "<Figure size 432x288 with 1 Axes>"
      ]
     },
     "metadata": {
      "needs_background": "light"
     },
     "output_type": "display_data"
    }
   ],
   "source": [
    "plot_importance(xgb)\n",
    "plt.show()"
   ]
  },
  {
   "cell_type": "code",
   "execution_count": null,
   "id": "artistic-penguin",
   "metadata": {},
   "outputs": [],
   "source": []
  }
 ],
 "metadata": {
  "kernelspec": {
   "display_name": "py310",
   "language": "python",
   "name": "py310"
  },
  "language_info": {
   "codemirror_mode": {
    "name": "ipython",
    "version": 3
   },
   "file_extension": ".py",
   "mimetype": "text/x-python",
   "name": "python",
   "nbconvert_exporter": "python",
   "pygments_lexer": "ipython3",
   "version": "3.10.8"
  }
 },
 "nbformat": 4,
 "nbformat_minor": 5
}
