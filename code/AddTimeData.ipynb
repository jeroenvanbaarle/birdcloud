{
 "cells": [
  {
   "cell_type": "code",
   "execution_count": 1,
   "id": "driving-helping",
   "metadata": {},
   "outputs": [],
   "source": [
    "import pandas as pd\n",
    "import numpy as np\n",
    "import os"
   ]
  },
  {
   "cell_type": "code",
   "execution_count": 2,
   "id": "owned-makeup",
   "metadata": {},
   "outputs": [],
   "source": [
    "def find_5min_prior(filename):\n",
    "    splitname = filename.split(\"_\")\n",
    "    datetime = splitname[2].split(\"T\")\n",
    "    newTime = int(datetime[1]) - 5\n",
    "    \n",
    "    if int(datetime[1]) % 100 == 0:\n",
    "        newTime = newTime - 40\n",
    "        \n",
    "    missingZeros = 4 - len(str(newTime))\n",
    "    \n",
    "    if missingZeros > 0:\n",
    "        newTime = \"0\"*missingZeros + str(newTime)\n",
    "    \n",
    "    firstPartNewFile = filename.split(\"T\")[0]\n",
    "\n",
    "    priorFile = firstPartNewFile + \"T\" + str(newTime) + \"_\" + splitname[-1]\n",
    "    \n",
    "    return priorFile"
   ]
  },
  {
   "cell_type": "code",
   "execution_count": 3,
   "id": "facial-mercury",
   "metadata": {},
   "outputs": [],
   "source": [
    "def add_5min_prior(filename):\n",
    "    prior_file = find_5min_prior(filename)\n",
    "\n",
    "    if prior_file in os.listdir(\"../pointclouds\"):\n",
    "        df1 = pd.read_parquet(\"../pointclouds/\"+ filename)\n",
    "        df1.drop(df1[(df1['x'] == 0) & (df1['y'] == 0)].index, inplace=True)\n",
    "\n",
    "        df2 = pd.read_parquet(\"../pointclouds/\"+ prior_file)\n",
    "        df2 = df2.drop('biology', axis=1)\n",
    "        df2 = df2.rename(columns={'DBZH':'prior_DBZ', 'VRADH':'prior_VRAD'})\n",
    "        df2.drop(df2[(df2['x'] == 0) & (df2['y'] == 0)].index, inplace=True)\n",
    "\n",
    "        newDF = pd.merge(df1, df2, how='left', left_on=['x', 'y', 'z'], right_on=['x','y','z'])\n",
    "        newDF = newDF.fillna(-200)\n",
    "        newDF.to_parquet(\"../cloudswithtime/\"+ filename)\n",
    "    else:\n",
    "        print(filename)"
   ]
  },
  {
   "cell_type": "code",
   "execution_count": 4,
   "id": "cutting-decrease",
   "metadata": {},
   "outputs": [
    {
     "name": "stdout",
     "output_type": "stream",
     "text": [
      "NLHRW_pvol_20211001T0005_6356.parquet\n",
      "NLHRW_pvol_20211001T0955_6356.parquet\n",
      "NLHRW_pvol_20211002T0000_6356.parquet\n",
      "NLHRW_pvol_20211003T0000_6356.parquet\n",
      "NLHRW_pvol_20211004T0005_6356.parquet\n",
      "NLHRW_pvol_20211004T1152_6356.parquet\n",
      "NLHRW_pvol_20211004T1200_6356.parquet\n",
      "NLHRW_pvol_20211005T0000_6356.parquet\n",
      "NLHRW_pvol_20211006T0000_6356.parquet\n",
      "NLHRW_pvol_20211007T0000_6356.parquet\n",
      "NLHRW_pvol_20211008T0000_6356.parquet\n",
      "NLHRW_pvol_20211009T0000_6356.parquet\n",
      "NLHRW_pvol_20211010T0005_6356.parquet\n",
      "NLHRW_pvol_20211011T0005_6356.parquet\n",
      "NLHRW_pvol_20211011T1152_6356.parquet\n",
      "NLHRW_pvol_20211011T1200_6356.parquet\n",
      "NLHRW_pvol_20211012T0005_6356.parquet\n",
      "NLHRW_pvol_20211013T0010_6356.parquet\n",
      "NLHRW_pvol_20211014T0005_6356.parquet\n",
      "NLHRW_pvol_20211014T1005_6356.parquet\n",
      "NLHRW_pvol_20211015T0005_6356.parquet\n",
      "NLHRW_pvol_20211016T0010_6356.parquet\n"
     ]
    }
   ],
   "source": [
    "files = [f for f in os.listdir(\"../pointclouds\") if os.path.isfile(os.path.join(\"../pointclouds\", f))]\n",
    "timeFiles = [f for f in os.listdir(\"../cloudswithtime\") if os.path.isfile(os.path.join(\"../cloudswithtime\", f))]\n",
    "\n",
    "for f in files:\n",
    "    if f not in timeFiles:\n",
    "        add_5min_prior(f)"
   ]
  },
  {
   "cell_type": "code",
   "execution_count": null,
   "id": "sophisticated-blend",
   "metadata": {},
   "outputs": [],
   "source": []
  }
 ],
 "metadata": {
  "kernelspec": {
   "display_name": "py310",
   "language": "python",
   "name": "py310"
  },
  "language_info": {
   "codemirror_mode": {
    "name": "ipython",
    "version": 3
   },
   "file_extension": ".py",
   "mimetype": "text/x-python",
   "name": "python",
   "nbconvert_exporter": "python",
   "pygments_lexer": "ipython3",
   "version": "3.10.8"
  }
 },
 "nbformat": 4,
 "nbformat_minor": 5
}
