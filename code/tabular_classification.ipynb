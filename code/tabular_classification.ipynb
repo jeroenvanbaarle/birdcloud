{
 "cells": [
  {
   "cell_type": "code",
   "execution_count": 22,
   "id": "heard-compound",
   "metadata": {},
   "outputs": [],
   "source": [
    "import pandas as pd\n",
    "import polars as pl\n",
    "import numpy as np\n",
    "import random\n",
    "from tqdm import tqdm\n",
    "from xgboost import XGBClassifier,  plot_importance\n",
    "import xgboost\n",
    "import os\n",
    "import matplotlib.pyplot as plt\n",
    "from sklearn.metrics import accuracy_score, precision_score, recall_score, confusion_matrix, ConfusionMatrixDisplay"
   ]
  },
  {
   "cell_type": "code",
   "execution_count": 26,
   "id": "amended-vietnamese",
   "metadata": {},
   "outputs": [],
   "source": [
    "np.random.seed(42)\n",
    "DATA_PATH = \"../cloudswithtime/\""
   ]
  },
  {
   "cell_type": "markdown",
   "id": "armed-anger",
   "metadata": {},
   "source": [
    "## Data preparation"
   ]
  },
  {
   "cell_type": "code",
   "execution_count": 27,
   "id": "assumed-weekend",
   "metadata": {},
   "outputs": [],
   "source": [
    "def train_test_split(folderpath, testsplit=0.3):\n",
    "    files = [f for f in os.listdir(folderpath) if os.path.isfile(os.path.join(folderpath, f))]\n",
    "    np.random.shuffle(files)\n",
    "    \n",
    "    split = int(len(files)*(1-testsplit))\n",
    "    trainFiles = files[:split]\n",
    "    testFiles = files[split:]\n",
    "\n",
    "    return trainFiles, testFiles"
   ]
  },
  {
   "cell_type": "code",
   "execution_count": 28,
   "id": "independent-imperial",
   "metadata": {},
   "outputs": [],
   "source": [
    "trainFiles, testFiles = train_test_split(f\"{DATA_PATH}\")"
   ]
  },
  {
   "cell_type": "code",
   "execution_count": 29,
   "id": "charming-cylinder",
   "metadata": {},
   "outputs": [
    {
     "name": "stdout",
     "output_type": "stream",
     "text": [
      "3193\n"
     ]
    }
   ],
   "source": [
    "print(len(trainFiles))"
   ]
  },
  {
   "cell_type": "markdown",
   "id": "cordless-tribe",
   "metadata": {},
   "source": [
    "## Training"
   ]
  },
  {
   "cell_type": "code",
   "execution_count": 30,
   "id": "industrial-charity",
   "metadata": {},
   "outputs": [
    {
     "name": "stderr",
     "output_type": "stream",
     "text": [
      "100%|██████████████████████████████████████████████████████████████████████████████| 3193/3193 [35:18<00:00,  1.51it/s]\n"
     ]
    }
   ],
   "source": [
    "xgb = XGBClassifier(n_estimators = 100, tree_method='gpu_hist', n_jobs = -1)\n",
    "\n",
    "for i in tqdm(trainFiles):\n",
    "    df = pd.read_parquet(f\"{DATA_PATH}{i}\")\n",
    "    \n",
    "    xgb.fit(df[['x', 'y', 'z', 'DBZH', 'VRADH', 'prior_DBZ', 'prior_VRAD']], df[['biology']])"
   ]
  },
  {
   "cell_type": "markdown",
   "id": "laden-fancy",
   "metadata": {},
   "source": [
    "## Testing"
   ]
  },
  {
   "cell_type": "code",
   "execution_count": 31,
   "id": "stylish-roberts",
   "metadata": {},
   "outputs": [
    {
     "name": "stderr",
     "output_type": "stream",
     "text": [
      "100%|██████████████████████████████████████████████████████████████████████████████| 1369/1369 [14:03<00:00,  1.62it/s]"
     ]
    },
    {
     "name": "stdout",
     "output_type": "stream",
     "text": [
      "Average Accuracy: 0.7768669843369755\n",
      "Min Accuracy: 0.5217104777946694\n",
      "Max Accuracy: 0.8820032702288355\n",
      "\n",
      "Average Precision: 0.7690375248467849\n",
      "Min Precision: 0.18550871057573992\n",
      "Max Precision: 0.9212579451431663\n",
      "\n",
      "Average Recall: 0.8125244601748335\n",
      "Min Recall: 0.4021046422971243\n",
      "Max Recall: 0.9768490050109246\n"
     ]
    },
    {
     "name": "stderr",
     "output_type": "stream",
     "text": [
      "\n"
     ]
    }
   ],
   "source": [
    "cms = {}\n",
    "j = 0\n",
    "\n",
    "accuracies = []\n",
    "precisions = []\n",
    "recalls = []\n",
    "\n",
    "for i in tqdm(testFiles):\n",
    "    df = pd.read_parquet(f\"{DATA_PATH}{i}\")\n",
    "    \n",
    "    predictions = xgb.predict(df[['x', 'y', 'z', 'DBZH', 'VRADH', 'prior_DBZ', 'prior_VRAD']])\n",
    "    \n",
    "    cms[j] = confusion_matrix(df[['biology']], predictions)\n",
    "    \n",
    "    acc = accuracy_score(df[['biology']], predictions)\n",
    "    prec = precision_score(df[['biology']], predictions)\n",
    "    rec = recall_score(df[['biology']], predictions)\n",
    "    \n",
    "    accuracies.append(acc)\n",
    "    precisions.append(prec)\n",
    "    recalls.append(rec)\n",
    "    \n",
    "    #print(f\"Accuracy: {acc}\")\n",
    "    #print(f\"Precision: {prec}\")\n",
    "    #print(f\"Recall: {rec}\")\n",
    "    #print(\"--------------------\")\n",
    "    j+=1\n",
    "    \n",
    "print(f\"Average Accuracy: {np.mean(accuracies)}\")\n",
    "print(f\"Min Accuracy: {np.min(accuracies)}\")\n",
    "print(f\"Max Accuracy: {np.max(accuracies)}\\n\")\n",
    "print(f\"Average Precision: {np.mean(precisions)}\")\n",
    "print(f\"Min Precision: {np.min(precisions)}\")\n",
    "print(f\"Max Precision: {np.max(precisions)}\\n\")\n",
    "print(f\"Average Recall: {np.mean(recalls)}\")\n",
    "print(f\"Min Recall: {np.min(recalls)}\")\n",
    "print(f\"Max Recall: {np.max(recalls)}\")"
   ]
  },
  {
   "cell_type": "code",
   "execution_count": 20,
   "id": "uniform-eagle",
   "metadata": {},
   "outputs": [
    {
     "data": {
      "image/png": "[encoded data removed]",
      "text/plain": [
       "<Figure size 432x288 with 2 Axes>"
      ]
     },
     "metadata": {
      "needs_background": "light"
     },
     "output_type": "display_data"
    }
   ],
   "source": [
    "disp = ConfusionMatrixDisplay(cms[497])\n",
    "disp.plot()\n",
    "plt.show()"
   ]
  },
  {
   "cell_type": "markdown",
   "id": "shared-remainder",
   "metadata": {},
   "source": [
    "## Feature Importance"
   ]
  },
  {
   "cell_type": "code",
   "execution_count": 32,
   "id": "sitting-fiber",
   "metadata": {},
   "outputs": [
    {
     "data": {
      "image/png": "[encoded data removed]",
      "text/plain": [
       "<Figure size 432x288 with 1 Axes>"
      ]
     },
     "metadata": {
      "needs_background": "light"
     },
     "output_type": "display_data"
    }
   ],
   "source": [
    "plot_importance(xgb)\n",
    "plt.show()"
   ]
  },
  {
   "cell_type": "markdown",
   "id": "concerned-links",
   "metadata": {},
   "source": [
    "## Converting single pointcloud to predicted csv"
   ]
  },
  {
   "cell_type": "code",
   "execution_count": null,
   "id": "stupid-swiss",
   "metadata": {},
   "outputs": [],
   "source": [
    "df = pd.read_parquet(f\"../cloudswithtime/NLHRW_pvol_20211008T1510_6356.parquet\")\n",
    "df['preds'] = xgb.predict(df[['x', 'y', 'z', 'DBZH', 'VRADH', 'prior_DBZ', 'prior_VRAD']])\n",
    "df.to_csv(\"../notable clouds/highest_rec.csv\")"
   ]
  },
  {
   "cell_type": "markdown",
   "id": "august-zealand",
   "metadata": {},
   "source": [
    "## Saving the model"
   ]
  },
  {
   "cell_type": "code",
   "execution_count": 33,
   "id": "artistic-penguin",
   "metadata": {},
   "outputs": [],
   "source": [
    "xgb.save_model(\"../models/XGBTime.ubj\")"
   ]
  },
  {
   "cell_type": "markdown",
   "id": "charming-prague",
   "metadata": {},
   "source": [
    "### Extra"
   ]
  },
  {
   "cell_type": "code",
   "execution_count": null,
   "id": "forty-maine",
   "metadata": {},
   "outputs": [],
   "source": [
    "rand_clouds = np.random.choice(testFiles[:400], 5)\n",
    "print(rand_clouds)\n",
    "\n",
    "for i, cl in enumerate(rand_clouds):\n",
    "    df = pd.read_parquet(f\"../cloudswithtime/{cl}\")\n",
    "    df['preds'] = xgb.predict(df[['x', 'y', 'z', 'DBZH', 'VRADH', 'prior_DBZ', 'prior_VRAD']])\n",
    "    df.to_csv(f\"../notable clouds/random_{i}.csv\")"
   ]
  }
 ],
 "metadata": {
  "kernelspec": {
   "display_name": "py310",
   "language": "python",
   "name": "py310"
  },
  "language_info": {
   "codemirror_mode": {
    "name": "ipython",
    "version": 3
   },
   "file_extension": ".py",
   "mimetype": "text/x-python",
   "name": "python",
   "nbconvert_exporter": "python",
   "pygments_lexer": "ipython3",
   "version": "3.10.8"
  }
 },
 "nbformat": 4,
 "nbformat_minor": 5
}
